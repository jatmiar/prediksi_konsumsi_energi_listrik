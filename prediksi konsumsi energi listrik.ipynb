{
 "cells": [
  {
   "cell_type": "code",
   "execution_count": 1,
   "id": "606b0e87",
   "metadata": {},
   "outputs": [
    {
     "name": "stdout",
     "output_type": "stream",
     "text": [
      "c:\\Jatmiar Folder\\python-project\\Prediksi Konsumsi Energi Listrik\\.venv\n"
     ]
    }
   ],
   "source": [
    "import sys\n",
    "print(sys.prefix)  # Menampilkan path environment aktif"
   ]
  },
  {
   "cell_type": "code",
   "execution_count": 2,
   "id": "6c2ad860",
   "metadata": {},
   "outputs": [],
   "source": [
    "#!pip install pandas"
   ]
  },
  {
   "cell_type": "code",
   "execution_count": 3,
   "id": "7956c231",
   "metadata": {},
   "outputs": [],
   "source": [
    "#!pip install matplotlib seaborn"
   ]
  },
  {
   "cell_type": "code",
   "execution_count": 4,
   "id": "b6ad3c6d",
   "metadata": {},
   "outputs": [],
   "source": [
    "#!pip install tensorflow scikit-learn"
   ]
  },
  {
   "cell_type": "markdown",
   "id": "94b579fc",
   "metadata": {},
   "source": [
    "Library that is Used"
   ]
  },
  {
   "cell_type": "code",
   "execution_count": 5,
   "id": "4eac2f2f",
   "metadata": {},
   "outputs": [],
   "source": [
    "import pandas as pd\n",
    "import numpy as np\n",
    "import matplotlib.pyplot as plt\n",
    "import seaborn as sns"
   ]
  },
  {
   "cell_type": "code",
   "execution_count": 6,
   "id": "a94a696f",
   "metadata": {},
   "outputs": [],
   "source": [
    "import tensorflow as tf\n",
    "from tensorflow.keras.models import Sequential\n",
    "from tensorflow.keras.layers import LSTM\n",
    "from tensorflow.keras.layers import Dense\n",
    "\n",
    "from sklearn.preprocessing import MinMaxScaler\n",
    "from sklearn.metrics import mean_squared_error\n",
    "\n",
    "import warnings\n",
    "warnings.filterwarnings(\"ignore\")"
   ]
  },
  {
   "cell_type": "code",
   "execution_count": 7,
   "id": "69237502",
   "metadata": {},
   "outputs": [
    {
     "data": {
      "text/html": [
       "<div>\n",
       "<style scoped>\n",
       "    .dataframe tbody tr th:only-of-type {\n",
       "        vertical-align: middle;\n",
       "    }\n",
       "\n",
       "    .dataframe tbody tr th {\n",
       "        vertical-align: top;\n",
       "    }\n",
       "\n",
       "    .dataframe thead th {\n",
       "        text-align: right;\n",
       "    }\n",
       "</style>\n",
       "<table border=\"1\" class=\"dataframe\">\n",
       "  <thead>\n",
       "    <tr style=\"text-align: right;\">\n",
       "      <th></th>\n",
       "      <th>no</th>\n",
       "      <th>tanggal</th>\n",
       "      <th>konsumsi(kwh)</th>\n",
       "    </tr>\n",
       "  </thead>\n",
       "  <tbody>\n",
       "    <tr>\n",
       "      <th>0</th>\n",
       "      <td>1</td>\n",
       "      <td>30/01/2018</td>\n",
       "      <td>23543455</td>\n",
       "    </tr>\n",
       "    <tr>\n",
       "      <th>1</th>\n",
       "      <td>2</td>\n",
       "      <td>28/02/2018</td>\n",
       "      <td>21698806</td>\n",
       "    </tr>\n",
       "    <tr>\n",
       "      <th>2</th>\n",
       "      <td>3</td>\n",
       "      <td>30/03/2018</td>\n",
       "      <td>24374770</td>\n",
       "    </tr>\n",
       "    <tr>\n",
       "      <th>3</th>\n",
       "      <td>4</td>\n",
       "      <td>30/04/2018</td>\n",
       "      <td>24071263</td>\n",
       "    </tr>\n",
       "    <tr>\n",
       "      <th>4</th>\n",
       "      <td>5</td>\n",
       "      <td>30/05/2018</td>\n",
       "      <td>25530256</td>\n",
       "    </tr>\n",
       "  </tbody>\n",
       "</table>\n",
       "</div>"
      ],
      "text/plain": [
       "   no     tanggal  konsumsi(kwh)\n",
       "0   1  30/01/2018       23543455\n",
       "1   2  28/02/2018       21698806\n",
       "2   3  30/03/2018       24374770\n",
       "3   4  30/04/2018       24071263\n",
       "4   5  30/05/2018       25530256"
      ]
     },
     "execution_count": 7,
     "metadata": {},
     "output_type": "execute_result"
    }
   ],
   "source": [
    "df = pd.read_csv(\"C:\\Jatmiar Folder\\python-project\\Prediksi Konsumsi Energi Listrik\\Dataset(1).csv\", sep=\";\")\n",
    "df.head()"
   ]
  },
  {
   "cell_type": "code",
   "execution_count": 8,
   "id": "c452b295",
   "metadata": {},
   "outputs": [
    {
     "data": {
      "text/plain": [
       "no                int64\n",
       "tanggal          object\n",
       "konsumsi(kwh)     int64\n",
       "dtype: object"
      ]
     },
     "execution_count": 8,
     "metadata": {},
     "output_type": "execute_result"
    }
   ],
   "source": [
    "df.dtypes"
   ]
  },
  {
   "cell_type": "code",
   "execution_count": 9,
   "id": "d7d35cfc",
   "metadata": {},
   "outputs": [],
   "source": [
    "df.tanggal = pd.to_datetime(df.tanggal)"
   ]
  },
  {
   "cell_type": "markdown",
   "id": "cc351c20",
   "metadata": {},
   "source": [
    "Explorasi Data Analystics"
   ]
  },
  {
   "cell_type": "code",
   "execution_count": 10,
   "id": "42e15334",
   "metadata": {},
   "outputs": [
    {
     "name": "stdout",
     "output_type": "stream",
     "text": [
      "<class 'pandas.core.frame.DataFrame'>\n",
      "RangeIndex: 63 entries, 0 to 62\n",
      "Data columns (total 3 columns):\n",
      " #   Column         Non-Null Count  Dtype         \n",
      "---  ------         --------------  -----         \n",
      " 0   no             63 non-null     int64         \n",
      " 1   tanggal        63 non-null     datetime64[ns]\n",
      " 2   konsumsi(kwh)  63 non-null     int64         \n",
      "dtypes: datetime64[ns](1), int64(2)\n",
      "memory usage: 1.6 KB\n"
     ]
    }
   ],
   "source": [
    "df.info()"
   ]
  },
  {
   "cell_type": "code",
   "execution_count": 11,
   "id": "564a8a0f",
   "metadata": {},
   "outputs": [
    {
     "data": {
      "text/plain": [
       "(63, 3)"
      ]
     },
     "execution_count": 11,
     "metadata": {},
     "output_type": "execute_result"
    }
   ],
   "source": [
    "df.shape"
   ]
  },
  {
   "cell_type": "code",
   "execution_count": 12,
   "id": "ee9f3d2c",
   "metadata": {},
   "outputs": [
    {
     "data": {
      "text/plain": [
       "np.int64(0)"
      ]
     },
     "execution_count": 12,
     "metadata": {},
     "output_type": "execute_result"
    }
   ],
   "source": [
    "# Mengecek data kosong\n",
    "df.isnull().sum()\n",
    "# Mengecek data duplikat\n",
    "df.duplicated().sum()"
   ]
  },
  {
   "cell_type": "code",
   "execution_count": 13,
   "id": "943374c3",
   "metadata": {},
   "outputs": [
    {
     "data": {
      "text/plain": [
       "count    6.300000e+01\n",
       "mean     2.883702e+07\n",
       "std      3.251333e+06\n",
       "min      2.169881e+07\n",
       "25%      2.568833e+07\n",
       "50%      2.978734e+07\n",
       "75%      3.125809e+07\n",
       "max      3.583545e+07\n",
       "Name: konsumsi(kwh), dtype: float64"
      ]
     },
     "metadata": {},
     "output_type": "display_data"
    }
   ],
   "source": [
    "# Menampilkan deskripsi data\n",
    "display(df[\"konsumsi(kwh)\"].describe())"
   ]
  },
  {
   "cell_type": "code",
   "execution_count": 14,
   "id": "5c983bf8",
   "metadata": {},
   "outputs": [
    {
     "data": {
      "image/png": "[encoded data removed]",
      "text/plain": [
       "<Figure size 640x480 with 1 Axes>"
      ]
     },
     "metadata": {},
     "output_type": "display_data"
    }
   ],
   "source": [
    "# Membuat Scatterplot\n",
    "plt.Figure(figsize=(18,10))\n",
    "\n",
    "plt.scatter(x=df[\"tanggal\"], y=df[\"konsumsi(kwh)\"], marker=\"D\")\n",
    "plt.grid(True)\n",
    "plt.title(\"Scatterplot Konsumsi Energi Listrik di Kabupaten Kebumen\")\n",
    "plt.xlabel(\"Tahun\")\n",
    "plt.ylabel(\"Konsumsi Energi Listrik (kWh)\")\n",
    "plt.show()"
   ]
  },
  {
   "cell_type": "code",
   "execution_count": 15,
   "id": "491cd788",
   "metadata": {},
   "outputs": [
    {
     "data": {
      "image/png": "[encoded data removed]",
      "text/plain": [
       "<Figure size 640x480 with 1 Axes>"
      ]
     },
     "metadata": {},
     "output_type": "display_data"
    }
   ],
   "source": [
    "# Membuat regplot\n",
    "sns.regplot(data=df, x=\"no\", y=\"konsumsi(kwh)\")\n",
    "plt.title(\"Regplot Konsumsi Energi Listrik di Kabupaten Kebumen\")\n",
    "plt.xlabel(\"Nomor\")\n",
    "plt.ylabel(\"Jumlah Konsumsi Energi Listrik\")\n",
    "plt.show()"
   ]
  },
  {
   "cell_type": "code",
   "execution_count": 16,
   "id": "7ec03a2c",
   "metadata": {},
   "outputs": [
    {
     "data": {
      "image/png": "[encoded data removed]",
      "text/plain": [
       "<Figure size 640x480 with 1 Axes>"
      ]
     },
     "metadata": {},
     "output_type": "display_data"
    }
   ],
   "source": [
    "# Membuat Lineplot\n",
    "plt.Figure(figsize=(16,8))\n",
    "ax = sns.lineplot(data=df,\n",
    "             x=df[\"tanggal\"],\n",
    "             y=df[\"konsumsi(kwh)\"],\n",
    "             markers=\"o\",\n",
    "             dashes=True)\n",
    "sns.set_style(\"whitegrid\")\n",
    "ax.set_title(\"Lineplot Konsumsi Energi Listrik di Kabupaten Kebumen\")\n",
    "ax.set(xlabel=\"Tahun\", ylabel=\"Konsumsi Energi Listrik (kWh)\")\n",
    "plt.show()"
   ]
  },
  {
   "cell_type": "code",
   "execution_count": 17,
   "id": "495cf455",
   "metadata": {},
   "outputs": [
    {
     "data": {
      "image/png": "[encoded data removed]",
      "text/plain": [
       "<Figure size 1000x600 with 1 Axes>"
      ]
     },
     "metadata": {},
     "output_type": "display_data"
    }
   ],
   "source": [
    "plt.figure(figsize=(10,6))\n",
    "ax = sns.boxplot(x=df[\"konsumsi(kwh)\"])\n",
    "plt.title(\"Boxplot Konsumsi Energi Listrik\")\n",
    "\n",
    "# Menambahkan nilai-nilai statistik pada plot\n",
    "desc = df[\"konsumsi(kwh)\"].describe()\n",
    "stat_labels = ['Min', 'Q1', 'Median', 'Q3', 'Max']\n",
    "stat_values = [desc['min'], desc['25%'], desc['50%'], desc['75%'], desc['max']]\n",
    "\n",
    "for val, label in zip(stat_values, stat_labels):\n",
    "    plt.text(val, 0.02, f'{label}\\n{val:.2f}', ha='center', color='black', fontsize=9, rotation=45)\n",
    "\n",
    "plt.xlabel(\"Jumlah Konsumsi Energi Listrik\")\n",
    "plt.show()\n"
   ]
  },
  {
   "cell_type": "markdown",
   "id": "31542b60",
   "metadata": {},
   "source": [
    "Data Preparation"
   ]
  },
  {
   "cell_type": "code",
   "execution_count": 18,
   "id": "74c004ad",
   "metadata": {},
   "outputs": [
    {
     "data": {
      "text/html": [
       "<div>\n",
       "<style scoped>\n",
       "    .dataframe tbody tr th:only-of-type {\n",
       "        vertical-align: middle;\n",
       "    }\n",
       "\n",
       "    .dataframe tbody tr th {\n",
       "        vertical-align: top;\n",
       "    }\n",
       "\n",
       "    .dataframe thead th {\n",
       "        text-align: right;\n",
       "    }\n",
       "</style>\n",
       "<table border=\"1\" class=\"dataframe\">\n",
       "  <thead>\n",
       "    <tr style=\"text-align: right;\">\n",
       "      <th></th>\n",
       "      <th>tanggal</th>\n",
       "      <th>konsumsi(kwh)</th>\n",
       "    </tr>\n",
       "  </thead>\n",
       "  <tbody>\n",
       "    <tr>\n",
       "      <th>0</th>\n",
       "      <td>2018-01-30</td>\n",
       "      <td>23543455</td>\n",
       "    </tr>\n",
       "    <tr>\n",
       "      <th>1</th>\n",
       "      <td>2018-02-28</td>\n",
       "      <td>21698806</td>\n",
       "    </tr>\n",
       "    <tr>\n",
       "      <th>2</th>\n",
       "      <td>2018-03-30</td>\n",
       "      <td>24374770</td>\n",
       "    </tr>\n",
       "    <tr>\n",
       "      <th>3</th>\n",
       "      <td>2018-04-30</td>\n",
       "      <td>24071263</td>\n",
       "    </tr>\n",
       "    <tr>\n",
       "      <th>4</th>\n",
       "      <td>2018-05-30</td>\n",
       "      <td>25530256</td>\n",
       "    </tr>\n",
       "  </tbody>\n",
       "</table>\n",
       "</div>"
      ],
      "text/plain": [
       "     tanggal  konsumsi(kwh)\n",
       "0 2018-01-30       23543455\n",
       "1 2018-02-28       21698806\n",
       "2 2018-03-30       24374770\n",
       "3 2018-04-30       24071263\n",
       "4 2018-05-30       25530256"
      ]
     },
     "execution_count": 18,
     "metadata": {},
     "output_type": "execute_result"
    }
   ],
   "source": [
    "df1 = df.drop(\"no\", axis=1)\n",
    "#df1 = df.copy()\n",
    "df1.head()"
   ]
  },
  {
   "cell_type": "code",
   "execution_count": 19,
   "id": "d4f24575",
   "metadata": {},
   "outputs": [
    {
     "data": {
      "text/plain": [
       "DatetimeIndex(['2018-01-30', '2018-02-28', '2018-03-30', '2018-04-30',\n",
       "               '2018-05-30', '2018-06-30', '2018-07-30', '2018-08-30',\n",
       "               '2018-09-30', '2018-10-30', '2018-11-30', '2018-12-30',\n",
       "               '2019-01-30', '2019-02-28', '2019-03-30', '2019-04-30',\n",
       "               '2019-05-30', '2019-06-30', '2019-07-30', '2019-08-30',\n",
       "               '2019-09-30', '2019-10-30', '2019-11-30', '2019-12-30',\n",
       "               '2020-01-30', '2020-02-28', '2020-03-30', '2020-04-30',\n",
       "               '2020-05-30', '2020-06-30', '2020-07-30', '2020-08-30',\n",
       "               '2020-09-30', '2020-10-30', '2020-11-30', '2020-12-30',\n",
       "               '2021-01-30', '2021-02-28', '2021-03-30', '2021-04-30',\n",
       "               '2021-05-30', '2021-06-30', '2021-07-30', '2021-08-30',\n",
       "               '2021-09-30', '2021-10-30', '2021-11-30', '2021-12-30',\n",
       "               '2022-01-30', '2022-02-28', '2022-03-30', '2022-04-30',\n",
       "               '2022-05-30', '2022-06-30', '2022-07-30', '2022-08-30',\n",
       "               '2022-09-30', '2022-10-30', '2022-11-30', '2022-12-30',\n",
       "               '2023-01-30', '2023-02-28', '2023-03-30'],\n",
       "              dtype='datetime64[ns]', name='tanggal', freq=None)"
      ]
     },
     "execution_count": 19,
     "metadata": {},
     "output_type": "execute_result"
    }
   ],
   "source": [
    "df1.set_index(\"tanggal\", inplace=True)\n",
    "df1.index"
   ]
  },
  {
   "cell_type": "code",
   "execution_count": 20,
   "id": "cbf511f7",
   "metadata": {},
   "outputs": [],
   "source": [
    "def split_sequence(sequence, n_steps):\n",
    "    X, y = list(), list()\n",
    "    for i in range(len(sequence)):\n",
    "        end_ix = i + n_steps   #find the end of this pattern\n",
    "        if end_ix > (len(sequence)-1):\n",
    "            break  #gather input and output parts of the pattern\n",
    "        seq_x, seq_y = sequence[i:end_ix], sequence[end_ix]\n",
    "        X.append(seq_x)\n",
    "        y.append(seq_y)\n",
    "    return np.array(X), np.array(y)"
   ]
  },
  {
   "cell_type": "code",
   "execution_count": 21,
   "id": "d3af392e",
   "metadata": {},
   "outputs": [],
   "source": [
    "df2 = df1.values.reshape(-1,1)"
   ]
  },
  {
   "cell_type": "code",
   "execution_count": 22,
   "id": "49d5f77a",
   "metadata": {},
   "outputs": [
    {
     "data": {
      "text/plain": [
       "array([[0.13048705],\n",
       "       [0.        ],\n",
       "       [0.18929273],\n",
       "       [0.16782321],\n",
       "       [0.27102967],\n",
       "       [0.28103297],\n",
       "       [0.16611262],\n",
       "       [0.14801858],\n",
       "       [0.14230832],\n",
       "       [0.26774007],\n",
       "       [0.23340228],\n",
       "       [0.27833862],\n",
       "       [0.27490153],\n",
       "       [0.14885754],\n",
       "       [0.32120643],\n",
       "       [0.33647215],\n",
       "       [0.46636451],\n",
       "       [0.35706763],\n",
       "       [0.28339032],\n",
       "       [0.25666587],\n",
       "       [0.24329629],\n",
       "       [0.37558398],\n",
       "       [0.39208337],\n",
       "       [0.49208285],\n",
       "       [0.49605939],\n",
       "       [0.33986263],\n",
       "       [0.45065986],\n",
       "       [0.64466977],\n",
       "       [0.68061981],\n",
       "       [0.59833812],\n",
       "       [0.61950616],\n",
       "       [0.57216784],\n",
       "       [0.58315644],\n",
       "       [0.62255547],\n",
       "       [0.62858851],\n",
       "       [0.65515613],\n",
       "       [1.        ],\n",
       "       [0.47113721],\n",
       "       [0.68305413],\n",
       "       [0.49830101],\n",
       "       [0.67179261],\n",
       "       [0.59673456],\n",
       "       [0.56203856],\n",
       "       [0.60118123],\n",
       "       [0.57608065],\n",
       "       [0.64818015],\n",
       "       [0.65439831],\n",
       "       [0.71359971],\n",
       "       [0.71717587],\n",
       "       [0.46392531],\n",
       "       [0.6594655 ],\n",
       "       [0.72803446],\n",
       "       [0.89674869],\n",
       "       [0.72613352],\n",
       "       [0.75141731],\n",
       "       [0.75367775],\n",
       "       [0.74323715],\n",
       "       [0.74479155],\n",
       "       [0.70243157],\n",
       "       [0.8042824 ],\n",
       "       [0.83611676],\n",
       "       [0.60563108],\n",
       "       [0.88701109]])"
      ]
     },
     "execution_count": 22,
     "metadata": {},
     "output_type": "execute_result"
    }
   ],
   "source": [
    "scaler = MinMaxScaler(feature_range=(0,1))\n",
    "df_scaler = scaler.fit_transform(df2)\n",
    "df_scaler"
   ]
  },
  {
   "cell_type": "code",
   "execution_count": 23,
   "id": "544a03e2",
   "metadata": {},
   "outputs": [
    {
     "data": {
      "text/plain": [
       "(63,)"
      ]
     },
     "execution_count": 23,
     "metadata": {},
     "output_type": "execute_result"
    }
   ],
   "source": [
    "scaler_1d = np.array(df_scaler).flatten()\n",
    "np.shape(scaler_1d)"
   ]
  },
  {
   "cell_type": "code",
   "execution_count": 24,
   "id": "2b10cfee",
   "metadata": {},
   "outputs": [
    {
     "name": "stdout",
     "output_type": "stream",
     "text": [
      "[0.13048705 0.         0.18929273] 0.16782321178916293\n",
      "[0.         0.18929273 0.16782321] 0.27102967295491065\n",
      "[0.18929273 0.16782321 0.27102967] 0.28103296652303045\n",
      "[0.16782321 0.27102967 0.28103297] 0.16611262192073317\n",
      "[0.27102967 0.28103297 0.16611262] 0.14801858206233387\n",
      "[0.28103297 0.16611262 0.14801858] 0.14230831589166426\n",
      "[0.16611262 0.14801858 0.14230832] 0.2677400661712921\n",
      "[0.14801858 0.14230832 0.26774007] 0.23340228416305875\n",
      "[0.14230832 0.26774007 0.23340228] 0.27833862124560826\n",
      "[0.26774007 0.23340228 0.27833862] 0.274901525425695\n",
      "[0.23340228 0.27833862 0.27490153] 0.14885753648461408\n",
      "[0.27833862 0.27490153 0.14885754] 0.321206433436394\n",
      "[0.27490153 0.14885754 0.32120643] 0.33647214996713504\n",
      "[0.14885754 0.32120643 0.33647215] 0.46636450631422854\n",
      "[0.32120643 0.33647215 0.46636451] 0.3570676321763495\n",
      "[0.33647215 0.46636451 0.35706763] 0.2833903152686026\n",
      "[0.46636451 0.35706763 0.28339032] 0.25666586779719425\n",
      "[0.35706763 0.28339032 0.25666587] 0.24329628729421215\n",
      "[0.28339032 0.25666587 0.24329629] 0.37558397877176497\n",
      "[0.25666587 0.24329629 0.37558398] 0.39208336858450976\n",
      "[0.24329629 0.37558398 0.39208337] 0.49208284512222256\n",
      "[0.37558398 0.39208337 0.49208285] 0.4960593900504249\n",
      "[0.39208337 0.49208285 0.49605939] 0.3398626293482385\n",
      "[0.49208285 0.49605939 0.33986263] 0.4506598595819489\n",
      "[0.49605939 0.33986263 0.45065986] 0.6446697674497568\n",
      "[0.33986263 0.45065986 0.64466977] 0.6806198133022237\n",
      "[0.45065986 0.64466977 0.68061981] 0.5983381204195279\n",
      "[0.64466977 0.68061981 0.59833812] 0.6195061571897826\n",
      "[0.68061981 0.59833812 0.61950616] 0.572167835590965\n",
      "[0.59833812 0.61950616 0.57216784] 0.5831564408073089\n",
      "[0.61950616 0.57216784 0.58315644] 0.6225554664883688\n",
      "[0.57216784 0.58315644 0.62255547] 0.6285885108233609\n",
      "[0.58315644 0.62255547 0.62858851] 0.6551561318230832\n",
      "[0.62255547 0.62858851 0.65515613] 1.0000000000000002\n",
      "[0.62858851 0.65515613 1.        ] 0.4711372090858339\n",
      "[0.65515613 1.         0.47113721] 0.6830541251516273\n",
      "[1.         0.47113721 0.68305413] 0.49830101118766224\n",
      "[0.47113721 0.68305413 0.49830101] 0.6717926121645277\n",
      "[0.68305413 0.49830101 0.67179261] 0.5967345573673637\n",
      "[0.49830101 0.67179261 0.59673456] 0.5620385573832094\n",
      "[0.67179261 0.59673456 0.56203856] 0.6011812280198894\n",
      "[0.59673456 0.56203856 0.60118123] 0.5760806454488068\n",
      "[0.56203856 0.60118123 0.57608065] 0.6481801479898623\n",
      "[0.60118123 0.57608065 0.64818015] 0.654398314055302\n",
      "[0.57608065 0.64818015 0.65439831] 0.7135997058424899\n",
      "[0.64818015 0.65439831 0.71359971] 0.7171758728592159\n",
      "[0.65439831 0.71359971 0.71717587] 0.4639253135326884\n",
      "[0.71359971 0.71717587 0.46392531] 0.6594654997324685\n",
      "[0.71717587 0.46392531 0.6594655 ] 0.728034461361551\n",
      "[0.46392531 0.6594655  0.72803446] 0.8967486908491151\n",
      "[0.6594655  0.72803446 0.89674869] 0.7261335151398025\n",
      "[0.72803446 0.89674869 0.72613352] 0.7514173095113665\n",
      "[0.89674869 0.72613352 0.75141731] 0.7536777469956804\n",
      "[0.72613352 0.75141731 0.75367775] 0.7432371502034003\n",
      "[0.75141731 0.75367775 0.74323715] 0.7447915502434668\n",
      "[0.75367775 0.74323715 0.74479155] 0.7024315672093036\n",
      "[0.74323715 0.74479155 0.70243157] 0.8042824025277853\n",
      "[0.74479155 0.70243157 0.8042824 ] 0.8361167615170901\n",
      "[0.70243157 0.8042824  0.83611676] 0.6056310818890254\n",
      "[0.8042824  0.83611676 0.60563108] 0.8870110897607664\n"
     ]
    }
   ],
   "source": [
    "n_steps = 3\n",
    "X, y = split_sequence(scaler_1d, n_steps)\n",
    "\n",
    "for i in range(len(X)):\n",
    "    print(X[i], y[i])"
   ]
  },
  {
   "cell_type": "code",
   "execution_count": 25,
   "id": "5c311f15",
   "metadata": {},
   "outputs": [
    {
     "name": "stdout",
     "output_type": "stream",
     "text": [
      "Train data size:  (48, 3) (48,)\n",
      "Test data size:  (12, 3) (12,)\n"
     ]
    }
   ],
   "source": [
    "train_split = 0.8\n",
    "data_size = len(X)\n",
    "train_size = int(train_split*data_size)\n",
    "X_train = X[:train_size]\n",
    "y_train = y[:train_size]\n",
    "X_test = X[train_size:]\n",
    "y_test = y[train_size:]\n",
    "\n",
    "print(\"Train data size: \", X_train.shape, y_train.shape)\n",
    "print(\"Test data size: \", X_test.shape, y_test.shape)\n"
   ]
  },
  {
   "cell_type": "code",
   "execution_count": 26,
   "id": "554328cd",
   "metadata": {},
   "outputs": [
    {
     "name": "stdout",
     "output_type": "stream",
     "text": [
      "(48, 3, 1) (12, 3, 1)\n"
     ]
    }
   ],
   "source": [
    "n_features = 1\n",
    "X_train_model = X_train.reshape(X_train.shape[0], X_train.shape[1], n_features)\n",
    "X_test_model = X_test.reshape(X_test.shape[0], X_test.shape[1], n_features)\n",
    "\n",
    "print(X_train_model.shape, X_test_model.shape)"
   ]
  },
  {
   "cell_type": "markdown",
   "id": "74729110",
   "metadata": {},
   "source": [
    "Membangun LSTM Model"
   ]
  },
  {
   "cell_type": "code",
   "execution_count": 27,
   "id": "f069dba5",
   "metadata": {},
   "outputs": [
    {
     "data": {
      "text/html": [
       "<pre style=\"white-space:pre;overflow-x:auto;line-height:normal;font-family:Menlo,'DejaVu Sans Mono',consolas,'Courier New',monospace\"><span style=\"font-weight: bold\">Model: \"sequential\"</span>\n",
       "</pre>\n"
      ],
      "text/plain": [
       "\u001b[1mModel: \"sequential\"\u001b[0m\n"
      ]
     },
     "metadata": {},
     "output_type": "display_data"
    },
    {
     "data": {
      "text/html": [
       "<pre style=\"white-space:pre;overflow-x:auto;line-height:normal;font-family:Menlo,'DejaVu Sans Mono',consolas,'Courier New',monospace\">┏━━━━━━━━━━━━━━━━━━━━━━━━━━━━━━━━━┳━━━━━━━━━━━━━━━━━━━━━━━━┳━━━━━━━━━━━━━━━┓\n",
       "┃<span style=\"font-weight: bold\"> Layer (type)                    </span>┃<span style=\"font-weight: bold\"> Output Shape           </span>┃<span style=\"font-weight: bold\">       Param # </span>┃\n",
       "┡━━━━━━━━━━━━━━━━━━━━━━━━━━━━━━━━━╇━━━━━━━━━━━━━━━━━━━━━━━━╇━━━━━━━━━━━━━━━┩\n",
       "│ lstm (<span style=\"color: #0087ff; text-decoration-color: #0087ff\">LSTM</span>)                     │ (<span style=\"color: #00d7ff; text-decoration-color: #00d7ff\">None</span>, <span style=\"color: #00af00; text-decoration-color: #00af00\">20</span>)             │         <span style=\"color: #00af00; text-decoration-color: #00af00\">1,760</span> │\n",
       "├─────────────────────────────────┼────────────────────────┼───────────────┤\n",
       "│ dense (<span style=\"color: #0087ff; text-decoration-color: #0087ff\">Dense</span>)                   │ (<span style=\"color: #00d7ff; text-decoration-color: #00d7ff\">None</span>, <span style=\"color: #00af00; text-decoration-color: #00af00\">1</span>)              │            <span style=\"color: #00af00; text-decoration-color: #00af00\">21</span> │\n",
       "└─────────────────────────────────┴────────────────────────┴───────────────┘\n",
       "</pre>\n"
      ],
      "text/plain": [
       "┏━━━━━━━━━━━━━━━━━━━━━━━━━━━━━━━━━┳━━━━━━━━━━━━━━━━━━━━━━━━┳━━━━━━━━━━━━━━━┓\n",
       "┃\u001b[1m \u001b[0m\u001b[1mLayer (type)                   \u001b[0m\u001b[1m \u001b[0m┃\u001b[1m \u001b[0m\u001b[1mOutput Shape          \u001b[0m\u001b[1m \u001b[0m┃\u001b[1m \u001b[0m\u001b[1m      Param #\u001b[0m\u001b[1m \u001b[0m┃\n",
       "┡━━━━━━━━━━━━━━━━━━━━━━━━━━━━━━━━━╇━━━━━━━━━━━━━━━━━━━━━━━━╇━━━━━━━━━━━━━━━┩\n",
       "│ lstm (\u001b[38;5;33mLSTM\u001b[0m)                     │ (\u001b[38;5;45mNone\u001b[0m, \u001b[38;5;34m20\u001b[0m)             │         \u001b[38;5;34m1,760\u001b[0m │\n",
       "├─────────────────────────────────┼────────────────────────┼───────────────┤\n",
       "│ dense (\u001b[38;5;33mDense\u001b[0m)                   │ (\u001b[38;5;45mNone\u001b[0m, \u001b[38;5;34m1\u001b[0m)              │            \u001b[38;5;34m21\u001b[0m │\n",
       "└─────────────────────────────────┴────────────────────────┴───────────────┘\n"
      ]
     },
     "metadata": {},
     "output_type": "display_data"
    },
    {
     "data": {
      "text/html": [
       "<pre style=\"white-space:pre;overflow-x:auto;line-height:normal;font-family:Menlo,'DejaVu Sans Mono',consolas,'Courier New',monospace\"><span style=\"font-weight: bold\"> Total params: </span><span style=\"color: #00af00; text-decoration-color: #00af00\">1,781</span> (6.96 KB)\n",
       "</pre>\n"
      ],
      "text/plain": [
       "\u001b[1m Total params: \u001b[0m\u001b[38;5;34m1,781\u001b[0m (6.96 KB)\n"
      ]
     },
     "metadata": {},
     "output_type": "display_data"
    },
    {
     "data": {
      "text/html": [
       "<pre style=\"white-space:pre;overflow-x:auto;line-height:normal;font-family:Menlo,'DejaVu Sans Mono',consolas,'Courier New',monospace\"><span style=\"font-weight: bold\"> Trainable params: </span><span style=\"color: #00af00; text-decoration-color: #00af00\">1,781</span> (6.96 KB)\n",
       "</pre>\n"
      ],
      "text/plain": [
       "\u001b[1m Trainable params: \u001b[0m\u001b[38;5;34m1,781\u001b[0m (6.96 KB)\n"
      ]
     },
     "metadata": {},
     "output_type": "display_data"
    },
    {
     "data": {
      "text/html": [
       "<pre style=\"white-space:pre;overflow-x:auto;line-height:normal;font-family:Menlo,'DejaVu Sans Mono',consolas,'Courier New',monospace\"><span style=\"font-weight: bold\"> Non-trainable params: </span><span style=\"color: #00af00; text-decoration-color: #00af00\">0</span> (0.00 B)\n",
       "</pre>\n"
      ],
      "text/plain": [
       "\u001b[1m Non-trainable params: \u001b[0m\u001b[38;5;34m0\u001b[0m (0.00 B)\n"
      ]
     },
     "metadata": {},
     "output_type": "display_data"
    }
   ],
   "source": [
    "# Membuat model\n",
    "model_basic = Sequential()\n",
    "model_basic.add(LSTM(20, input_shape=(n_steps, n_features)))\n",
    "model_basic.add(Dense(1))\n",
    "model_basic.compile(optimizer=\"Adam\",\n",
    "                    loss=\"mean_squared_error\")\n",
    "model_basic.summary()"
   ]
  },
  {
   "cell_type": "code",
   "execution_count": 28,
   "id": "841b0d0c",
   "metadata": {},
   "outputs": [
    {
     "name": "stdout",
     "output_type": "stream",
     "text": [
      "Epoch 1/100\n",
      "\u001b[1m3/3\u001b[0m \u001b[32m━━━━━━━━━━━━━━━━━━━━\u001b[0m\u001b[37m\u001b[0m \u001b[1m4s\u001b[0m 391ms/step - loss: 0.2489 - val_loss: 0.5666\n",
      "Epoch 2/100\n",
      "\u001b[1m3/3\u001b[0m \u001b[32m━━━━━━━━━━━━━━━━━━━━\u001b[0m\u001b[37m\u001b[0m \u001b[1m0s\u001b[0m 79ms/step - loss: 0.2505 - val_loss: 0.5232\n",
      "Epoch 3/100\n",
      "\u001b[1m3/3\u001b[0m \u001b[32m━━━━━━━━━━━━━━━━━━━━\u001b[0m\u001b[37m\u001b[0m \u001b[1m0s\u001b[0m 82ms/step - loss: 0.2069 - val_loss: 0.4824\n",
      "Epoch 4/100\n",
      "\u001b[1m3/3\u001b[0m \u001b[32m━━━━━━━━━━━━━━━━━━━━\u001b[0m\u001b[37m\u001b[0m \u001b[1m0s\u001b[0m 87ms/step - loss: 0.1812 - val_loss: 0.4435\n",
      "Epoch 5/100\n",
      "\u001b[1m3/3\u001b[0m \u001b[32m━━━━━━━━━━━━━━━━━━━━\u001b[0m\u001b[37m\u001b[0m \u001b[1m0s\u001b[0m 75ms/step - loss: 0.1874 - val_loss: 0.4063\n",
      "Epoch 6/100\n",
      "\u001b[1m3/3\u001b[0m \u001b[32m━━━━━━━━━━━━━━━━━━━━\u001b[0m\u001b[37m\u001b[0m \u001b[1m0s\u001b[0m 75ms/step - loss: 0.1517 - val_loss: 0.3709\n",
      "Epoch 7/100\n",
      "\u001b[1m3/3\u001b[0m \u001b[32m━━━━━━━━━━━━━━━━━━━━\u001b[0m\u001b[37m\u001b[0m \u001b[1m0s\u001b[0m 73ms/step - loss: 0.1492 - val_loss: 0.3369\n",
      "Epoch 8/100\n",
      "\u001b[1m3/3\u001b[0m \u001b[32m━━━━━━━━━━━━━━━━━━━━\u001b[0m\u001b[37m\u001b[0m \u001b[1m0s\u001b[0m 78ms/step - loss: 0.1246 - val_loss: 0.3046\n",
      "Epoch 9/100\n",
      "\u001b[1m3/3\u001b[0m \u001b[32m━━━━━━━━━━━━━━━━━━━━\u001b[0m\u001b[37m\u001b[0m \u001b[1m0s\u001b[0m 86ms/step - loss: 0.1165 - val_loss: 0.2736\n",
      "Epoch 10/100\n",
      "\u001b[1m3/3\u001b[0m \u001b[32m━━━━━━━━━━━━━━━━━━━━\u001b[0m\u001b[37m\u001b[0m \u001b[1m0s\u001b[0m 78ms/step - loss: 0.1128 - val_loss: 0.2440\n",
      "Epoch 11/100\n",
      "\u001b[1m3/3\u001b[0m \u001b[32m━━━━━━━━━━━━━━━━━━━━\u001b[0m\u001b[37m\u001b[0m \u001b[1m0s\u001b[0m 79ms/step - loss: 0.0784 - val_loss: 0.2165\n",
      "Epoch 12/100\n",
      "\u001b[1m3/3\u001b[0m \u001b[32m━━━━━━━━━━━━━━━━━━━━\u001b[0m\u001b[37m\u001b[0m \u001b[1m0s\u001b[0m 84ms/step - loss: 0.0648 - val_loss: 0.1905\n",
      "Epoch 13/100\n",
      "\u001b[1m3/3\u001b[0m \u001b[32m━━━━━━━━━━━━━━━━━━━━\u001b[0m\u001b[37m\u001b[0m \u001b[1m0s\u001b[0m 78ms/step - loss: 0.0612 - val_loss: 0.1659\n",
      "Epoch 14/100\n",
      "\u001b[1m3/3\u001b[0m \u001b[32m━━━━━━━━━━━━━━━━━━━━\u001b[0m\u001b[37m\u001b[0m \u001b[1m0s\u001b[0m 82ms/step - loss: 0.0544 - val_loss: 0.1430\n",
      "Epoch 15/100\n",
      "\u001b[1m3/3\u001b[0m \u001b[32m━━━━━━━━━━━━━━━━━━━━\u001b[0m\u001b[37m\u001b[0m \u001b[1m0s\u001b[0m 83ms/step - loss: 0.0504 - val_loss: 0.1222\n",
      "Epoch 16/100\n",
      "\u001b[1m3/3\u001b[0m \u001b[32m━━━━━━━━━━━━━━━━━━━━\u001b[0m\u001b[37m\u001b[0m \u001b[1m0s\u001b[0m 85ms/step - loss: 0.0347 - val_loss: 0.1036\n",
      "Epoch 17/100\n",
      "\u001b[1m3/3\u001b[0m \u001b[32m━━━━━━━━━━━━━━━━━━━━\u001b[0m\u001b[37m\u001b[0m \u001b[1m0s\u001b[0m 74ms/step - loss: 0.0345 - val_loss: 0.0870\n",
      "Epoch 18/100\n",
      "\u001b[1m3/3\u001b[0m \u001b[32m━━━━━━━━━━━━━━━━━━━━\u001b[0m\u001b[37m\u001b[0m \u001b[1m0s\u001b[0m 89ms/step - loss: 0.0269 - val_loss: 0.0724\n",
      "Epoch 19/100\n",
      "\u001b[1m3/3\u001b[0m \u001b[32m━━━━━━━━━━━━━━━━━━━━\u001b[0m\u001b[37m\u001b[0m \u001b[1m0s\u001b[0m 83ms/step - loss: 0.0206 - val_loss: 0.0602\n",
      "Epoch 20/100\n",
      "\u001b[1m3/3\u001b[0m \u001b[32m━━━━━━━━━━━━━━━━━━━━\u001b[0m\u001b[37m\u001b[0m \u001b[1m0s\u001b[0m 82ms/step - loss: 0.0210 - val_loss: 0.0500\n",
      "Epoch 21/100\n",
      "\u001b[1m3/3\u001b[0m \u001b[32m━━━━━━━━━━━━━━━━━━━━\u001b[0m\u001b[37m\u001b[0m \u001b[1m0s\u001b[0m 99ms/step - loss: 0.0211 - val_loss: 0.0415\n",
      "Epoch 22/100\n",
      "\u001b[1m3/3\u001b[0m \u001b[32m━━━━━━━━━━━━━━━━━━━━\u001b[0m\u001b[37m\u001b[0m \u001b[1m0s\u001b[0m 80ms/step - loss: 0.0169 - val_loss: 0.0352\n",
      "Epoch 23/100\n",
      "\u001b[1m3/3\u001b[0m \u001b[32m━━━━━━━━━━━━━━━━━━━━\u001b[0m\u001b[37m\u001b[0m \u001b[1m0s\u001b[0m 74ms/step - loss: 0.0196 - val_loss: 0.0303\n",
      "Epoch 24/100\n",
      "\u001b[1m3/3\u001b[0m \u001b[32m━━━━━━━━━━━━━━━━━━━━\u001b[0m\u001b[37m\u001b[0m \u001b[1m0s\u001b[0m 101ms/step - loss: 0.0189 - val_loss: 0.0271\n",
      "Epoch 25/100\n",
      "\u001b[1m3/3\u001b[0m \u001b[32m━━━━━━━━━━━━━━━━━━━━\u001b[0m\u001b[37m\u001b[0m \u001b[1m0s\u001b[0m 81ms/step - loss: 0.0167 - val_loss: 0.0249\n",
      "Epoch 26/100\n",
      "\u001b[1m3/3\u001b[0m \u001b[32m━━━━━━━━━━━━━━━━━━━━\u001b[0m\u001b[37m\u001b[0m \u001b[1m0s\u001b[0m 85ms/step - loss: 0.0191 - val_loss: 0.0233\n",
      "Epoch 27/100\n",
      "\u001b[1m3/3\u001b[0m \u001b[32m━━━━━━━━━━━━━━━━━━━━\u001b[0m\u001b[37m\u001b[0m \u001b[1m0s\u001b[0m 79ms/step - loss: 0.0174 - val_loss: 0.0227\n",
      "Epoch 28/100\n",
      "\u001b[1m3/3\u001b[0m \u001b[32m━━━━━━━━━━━━━━━━━━━━\u001b[0m\u001b[37m\u001b[0m \u001b[1m0s\u001b[0m 78ms/step - loss: 0.0163 - val_loss: 0.0228\n",
      "Epoch 29/100\n",
      "\u001b[1m3/3\u001b[0m \u001b[32m━━━━━━━━━━━━━━━━━━━━\u001b[0m\u001b[37m\u001b[0m \u001b[1m0s\u001b[0m 79ms/step - loss: 0.0185 - val_loss: 0.0232\n",
      "Epoch 30/100\n",
      "\u001b[1m3/3\u001b[0m \u001b[32m━━━━━━━━━━━━━━━━━━━━\u001b[0m\u001b[37m\u001b[0m \u001b[1m0s\u001b[0m 77ms/step - loss: 0.0155 - val_loss: 0.0237\n",
      "Epoch 31/100\n",
      "\u001b[1m3/3\u001b[0m \u001b[32m━━━━━━━━━━━━━━━━━━━━\u001b[0m\u001b[37m\u001b[0m \u001b[1m0s\u001b[0m 102ms/step - loss: 0.0141 - val_loss: 0.0244\n",
      "Epoch 32/100\n",
      "\u001b[1m3/3\u001b[0m \u001b[32m━━━━━━━━━━━━━━━━━━━━\u001b[0m\u001b[37m\u001b[0m \u001b[1m0s\u001b[0m 77ms/step - loss: 0.0150 - val_loss: 0.0252\n",
      "Epoch 33/100\n",
      "\u001b[1m3/3\u001b[0m \u001b[32m━━━━━━━━━━━━━━━━━━━━\u001b[0m\u001b[37m\u001b[0m \u001b[1m0s\u001b[0m 83ms/step - loss: 0.0146 - val_loss: 0.0259\n",
      "Epoch 34/100\n",
      "\u001b[1m3/3\u001b[0m \u001b[32m━━━━━━━━━━━━━━━━━━━━\u001b[0m\u001b[37m\u001b[0m \u001b[1m0s\u001b[0m 92ms/step - loss: 0.0175 - val_loss: 0.0268\n",
      "Epoch 35/100\n",
      "\u001b[1m3/3\u001b[0m \u001b[32m━━━━━━━━━━━━━━━━━━━━\u001b[0m\u001b[37m\u001b[0m \u001b[1m0s\u001b[0m 84ms/step - loss: 0.0165 - val_loss: 0.0272\n",
      "Epoch 36/100\n",
      "\u001b[1m3/3\u001b[0m \u001b[32m━━━━━━━━━━━━━━━━━━━━\u001b[0m\u001b[37m\u001b[0m \u001b[1m0s\u001b[0m 83ms/step - loss: 0.0156 - val_loss: 0.0276\n",
      "Epoch 37/100\n",
      "\u001b[1m3/3\u001b[0m \u001b[32m━━━━━━━━━━━━━━━━━━━━\u001b[0m\u001b[37m\u001b[0m \u001b[1m0s\u001b[0m 77ms/step - loss: 0.0200 - val_loss: 0.0274\n",
      "Epoch 38/100\n",
      "\u001b[1m3/3\u001b[0m \u001b[32m━━━━━━━━━━━━━━━━━━━━\u001b[0m\u001b[37m\u001b[0m \u001b[1m0s\u001b[0m 76ms/step - loss: 0.0149 - val_loss: 0.0272\n",
      "Epoch 39/100\n",
      "\u001b[1m3/3\u001b[0m \u001b[32m━━━━━━━━━━━━━━━━━━━━\u001b[0m\u001b[37m\u001b[0m \u001b[1m0s\u001b[0m 80ms/step - loss: 0.0145 - val_loss: 0.0271\n",
      "Epoch 40/100\n",
      "\u001b[1m3/3\u001b[0m \u001b[32m━━━━━━━━━━━━━━━━━━━━\u001b[0m\u001b[37m\u001b[0m \u001b[1m0s\u001b[0m 78ms/step - loss: 0.0149 - val_loss: 0.0270\n",
      "Epoch 41/100\n",
      "\u001b[1m3/3\u001b[0m \u001b[32m━━━━━━━━━━━━━━━━━━━━\u001b[0m\u001b[37m\u001b[0m \u001b[1m0s\u001b[0m 167ms/step - loss: 0.0154 - val_loss: 0.0265\n",
      "Epoch 42/100\n",
      "\u001b[1m3/3\u001b[0m \u001b[32m━━━━━━━━━━━━━━━━━━━━\u001b[0m\u001b[37m\u001b[0m \u001b[1m1s\u001b[0m 88ms/step - loss: 0.0166 - val_loss: 0.0261\n",
      "Epoch 43/100\n",
      "\u001b[1m3/3\u001b[0m \u001b[32m━━━━━━━━━━━━━━━━━━━━\u001b[0m\u001b[37m\u001b[0m \u001b[1m0s\u001b[0m 80ms/step - loss: 0.0170 - val_loss: 0.0255\n",
      "Epoch 44/100\n",
      "\u001b[1m3/3\u001b[0m \u001b[32m━━━━━━━━━━━━━━━━━━━━\u001b[0m\u001b[37m\u001b[0m \u001b[1m0s\u001b[0m 91ms/step - loss: 0.0148 - val_loss: 0.0255\n",
      "Epoch 45/100\n",
      "\u001b[1m3/3\u001b[0m \u001b[32m━━━━━━━━━━━━━━━━━━━━\u001b[0m\u001b[37m\u001b[0m \u001b[1m0s\u001b[0m 88ms/step - loss: 0.0151 - val_loss: 0.0251\n",
      "Epoch 46/100\n",
      "\u001b[1m3/3\u001b[0m \u001b[32m━━━━━━━━━━━━━━━━━━━━\u001b[0m\u001b[37m\u001b[0m \u001b[1m0s\u001b[0m 91ms/step - loss: 0.0123 - val_loss: 0.0248\n",
      "Epoch 47/100\n",
      "\u001b[1m3/3\u001b[0m \u001b[32m━━━━━━━━━━━━━━━━━━━━\u001b[0m\u001b[37m\u001b[0m \u001b[1m0s\u001b[0m 80ms/step - loss: 0.0130 - val_loss: 0.0245\n",
      "Epoch 48/100\n",
      "\u001b[1m3/3\u001b[0m \u001b[32m━━━━━━━━━━━━━━━━━━━━\u001b[0m\u001b[37m\u001b[0m \u001b[1m0s\u001b[0m 79ms/step - loss: 0.0150 - val_loss: 0.0241\n",
      "Epoch 49/100\n",
      "\u001b[1m3/3\u001b[0m \u001b[32m━━━━━━━━━━━━━━━━━━━━\u001b[0m\u001b[37m\u001b[0m \u001b[1m0s\u001b[0m 106ms/step - loss: 0.0178 - val_loss: 0.0237\n",
      "Epoch 50/100\n",
      "\u001b[1m3/3\u001b[0m \u001b[32m━━━━━━━━━━━━━━━━━━━━\u001b[0m\u001b[37m\u001b[0m \u001b[1m0s\u001b[0m 89ms/step - loss: 0.0154 - val_loss: 0.0239\n",
      "Epoch 51/100\n",
      "\u001b[1m3/3\u001b[0m \u001b[32m━━━━━━━━━━━━━━━━━━━━\u001b[0m\u001b[37m\u001b[0m \u001b[1m0s\u001b[0m 102ms/step - loss: 0.0157 - val_loss: 0.0236\n",
      "Epoch 52/100\n",
      "\u001b[1m3/3\u001b[0m \u001b[32m━━━━━━━━━━━━━━━━━━━━\u001b[0m\u001b[37m\u001b[0m \u001b[1m0s\u001b[0m 83ms/step - loss: 0.0126 - val_loss: 0.0236\n",
      "Epoch 53/100\n",
      "\u001b[1m3/3\u001b[0m \u001b[32m━━━━━━━━━━━━━━━━━━━━\u001b[0m\u001b[37m\u001b[0m \u001b[1m0s\u001b[0m 108ms/step - loss: 0.0152 - val_loss: 0.0235\n",
      "Epoch 54/100\n",
      "\u001b[1m3/3\u001b[0m \u001b[32m━━━━━━━━━━━━━━━━━━━━\u001b[0m\u001b[37m\u001b[0m \u001b[1m0s\u001b[0m 77ms/step - loss: 0.0146 - val_loss: 0.0235\n",
      "Epoch 55/100\n",
      "\u001b[1m3/3\u001b[0m \u001b[32m━━━━━━━━━━━━━━━━━━━━\u001b[0m\u001b[37m\u001b[0m \u001b[1m0s\u001b[0m 97ms/step - loss: 0.0148 - val_loss: 0.0231\n",
      "Epoch 56/100\n",
      "\u001b[1m3/3\u001b[0m \u001b[32m━━━━━━━━━━━━━━━━━━━━\u001b[0m\u001b[37m\u001b[0m \u001b[1m0s\u001b[0m 82ms/step - loss: 0.0145 - val_loss: 0.0230\n",
      "Epoch 57/100\n",
      "\u001b[1m3/3\u001b[0m \u001b[32m━━━━━━━━━━━━━━━━━━━━\u001b[0m\u001b[37m\u001b[0m \u001b[1m0s\u001b[0m 87ms/step - loss: 0.0173 - val_loss: 0.0226\n",
      "Epoch 58/100\n",
      "\u001b[1m3/3\u001b[0m \u001b[32m━━━━━━━━━━━━━━━━━━━━\u001b[0m\u001b[37m\u001b[0m \u001b[1m0s\u001b[0m 80ms/step - loss: 0.0124 - val_loss: 0.0224\n",
      "Epoch 59/100\n",
      "\u001b[1m3/3\u001b[0m \u001b[32m━━━━━━━━━━━━━━━━━━━━\u001b[0m\u001b[37m\u001b[0m \u001b[1m0s\u001b[0m 82ms/step - loss: 0.0164 - val_loss: 0.0218\n",
      "Epoch 60/100\n",
      "\u001b[1m3/3\u001b[0m \u001b[32m━━━━━━━━━━━━━━━━━━━━\u001b[0m\u001b[37m\u001b[0m \u001b[1m0s\u001b[0m 80ms/step - loss: 0.0153 - val_loss: 0.0216\n",
      "Epoch 61/100\n",
      "\u001b[1m3/3\u001b[0m \u001b[32m━━━━━━━━━━━━━━━━━━━━\u001b[0m\u001b[37m\u001b[0m \u001b[1m0s\u001b[0m 81ms/step - loss: 0.0127 - val_loss: 0.0217\n",
      "Epoch 62/100\n",
      "\u001b[1m3/3\u001b[0m \u001b[32m━━━━━━━━━━━━━━━━━━━━\u001b[0m\u001b[37m\u001b[0m \u001b[1m0s\u001b[0m 95ms/step - loss: 0.0167 - val_loss: 0.0215\n",
      "Epoch 63/100\n",
      "\u001b[1m3/3\u001b[0m \u001b[32m━━━━━━━━━━━━━━━━━━━━\u001b[0m\u001b[37m\u001b[0m \u001b[1m0s\u001b[0m 101ms/step - loss: 0.0151 - val_loss: 0.0215\n",
      "Epoch 64/100\n",
      "\u001b[1m3/3\u001b[0m \u001b[32m━━━━━━━━━━━━━━━━━━━━\u001b[0m\u001b[37m\u001b[0m \u001b[1m0s\u001b[0m 80ms/step - loss: 0.0184 - val_loss: 0.0215\n",
      "Epoch 65/100\n",
      "\u001b[1m3/3\u001b[0m \u001b[32m━━━━━━━━━━━━━━━━━━━━\u001b[0m\u001b[37m\u001b[0m \u001b[1m0s\u001b[0m 83ms/step - loss: 0.0137 - val_loss: 0.0213\n",
      "Epoch 66/100\n",
      "\u001b[1m3/3\u001b[0m \u001b[32m━━━━━━━━━━━━━━━━━━━━\u001b[0m\u001b[37m\u001b[0m \u001b[1m0s\u001b[0m 82ms/step - loss: 0.0162 - val_loss: 0.0210\n",
      "Epoch 67/100\n",
      "\u001b[1m3/3\u001b[0m \u001b[32m━━━━━━━━━━━━━━━━━━━━\u001b[0m\u001b[37m\u001b[0m \u001b[1m0s\u001b[0m 78ms/step - loss: 0.0167 - val_loss: 0.0207\n",
      "Epoch 68/100\n",
      "\u001b[1m3/3\u001b[0m \u001b[32m━━━━━━━━━━━━━━━━━━━━\u001b[0m\u001b[37m\u001b[0m \u001b[1m0s\u001b[0m 100ms/step - loss: 0.0135 - val_loss: 0.0206\n",
      "Epoch 69/100\n",
      "\u001b[1m3/3\u001b[0m \u001b[32m━━━━━━━━━━━━━━━━━━━━\u001b[0m\u001b[37m\u001b[0m \u001b[1m0s\u001b[0m 81ms/step - loss: 0.0140 - val_loss: 0.0206\n",
      "Epoch 70/100\n",
      "\u001b[1m3/3\u001b[0m \u001b[32m━━━━━━━━━━━━━━━━━━━━\u001b[0m\u001b[37m\u001b[0m \u001b[1m0s\u001b[0m 82ms/step - loss: 0.0161 - val_loss: 0.0204\n",
      "Epoch 71/100\n",
      "\u001b[1m3/3\u001b[0m \u001b[32m━━━━━━━━━━━━━━━━━━━━\u001b[0m\u001b[37m\u001b[0m \u001b[1m0s\u001b[0m 85ms/step - loss: 0.0140 - val_loss: 0.0206\n",
      "Epoch 72/100\n",
      "\u001b[1m3/3\u001b[0m \u001b[32m━━━━━━━━━━━━━━━━━━━━\u001b[0m\u001b[37m\u001b[0m \u001b[1m0s\u001b[0m 96ms/step - loss: 0.0159 - val_loss: 0.0201\n",
      "Epoch 73/100\n",
      "\u001b[1m3/3\u001b[0m \u001b[32m━━━━━━━━━━━━━━━━━━━━\u001b[0m\u001b[37m\u001b[0m \u001b[1m0s\u001b[0m 80ms/step - loss: 0.0128 - val_loss: 0.0202\n",
      "Epoch 74/100\n",
      "\u001b[1m3/3\u001b[0m \u001b[32m━━━━━━━━━━━━━━━━━━━━\u001b[0m\u001b[37m\u001b[0m \u001b[1m0s\u001b[0m 76ms/step - loss: 0.0142 - val_loss: 0.0201\n",
      "Epoch 75/100\n",
      "\u001b[1m3/3\u001b[0m \u001b[32m━━━━━━━━━━━━━━━━━━━━\u001b[0m\u001b[37m\u001b[0m \u001b[1m0s\u001b[0m 87ms/step - loss: 0.0177 - val_loss: 0.0198\n",
      "Epoch 76/100\n",
      "\u001b[1m3/3\u001b[0m \u001b[32m━━━━━━━━━━━━━━━━━━━━\u001b[0m\u001b[37m\u001b[0m \u001b[1m0s\u001b[0m 104ms/step - loss: 0.0113 - val_loss: 0.0197\n",
      "Epoch 77/100\n",
      "\u001b[1m3/3\u001b[0m \u001b[32m━━━━━━━━━━━━━━━━━━━━\u001b[0m\u001b[37m\u001b[0m \u001b[1m0s\u001b[0m 80ms/step - loss: 0.0156 - val_loss: 0.0192\n",
      "Epoch 78/100\n",
      "\u001b[1m3/3\u001b[0m \u001b[32m━━━━━━━━━━━━━━━━━━━━\u001b[0m\u001b[37m\u001b[0m \u001b[1m0s\u001b[0m 81ms/step - loss: 0.0134 - val_loss: 0.0191\n",
      "Epoch 79/100\n",
      "\u001b[1m3/3\u001b[0m \u001b[32m━━━━━━━━━━━━━━━━━━━━\u001b[0m\u001b[37m\u001b[0m \u001b[1m0s\u001b[0m 99ms/step - loss: 0.0144 - val_loss: 0.0188\n",
      "Epoch 80/100\n",
      "\u001b[1m3/3\u001b[0m \u001b[32m━━━━━━━━━━━━━━━━━━━━\u001b[0m\u001b[37m\u001b[0m \u001b[1m0s\u001b[0m 98ms/step - loss: 0.0142 - val_loss: 0.0189\n",
      "Epoch 81/100\n",
      "\u001b[1m3/3\u001b[0m \u001b[32m━━━━━━━━━━━━━━━━━━━━\u001b[0m\u001b[37m\u001b[0m \u001b[1m0s\u001b[0m 81ms/step - loss: 0.0157 - val_loss: 0.0187\n",
      "Epoch 82/100\n",
      "\u001b[1m3/3\u001b[0m \u001b[32m━━━━━━━━━━━━━━━━━━━━\u001b[0m\u001b[37m\u001b[0m \u001b[1m0s\u001b[0m 77ms/step - loss: 0.0157 - val_loss: 0.0188\n",
      "Epoch 83/100\n",
      "\u001b[1m3/3\u001b[0m \u001b[32m━━━━━━━━━━━━━━━━━━━━\u001b[0m\u001b[37m\u001b[0m \u001b[1m0s\u001b[0m 82ms/step - loss: 0.0126 - val_loss: 0.0189\n",
      "Epoch 84/100\n",
      "\u001b[1m3/3\u001b[0m \u001b[32m━━━━━━━━━━━━━━━━━━━━\u001b[0m\u001b[37m\u001b[0m \u001b[1m0s\u001b[0m 107ms/step - loss: 0.0135 - val_loss: 0.0188\n",
      "Epoch 85/100\n",
      "\u001b[1m3/3\u001b[0m \u001b[32m━━━━━━━━━━━━━━━━━━━━\u001b[0m\u001b[37m\u001b[0m \u001b[1m0s\u001b[0m 109ms/step - loss: 0.0165 - val_loss: 0.0184\n",
      "Epoch 86/100\n",
      "\u001b[1m3/3\u001b[0m \u001b[32m━━━━━━━━━━━━━━━━━━━━\u001b[0m\u001b[37m\u001b[0m \u001b[1m0s\u001b[0m 94ms/step - loss: 0.0147 - val_loss: 0.0181\n",
      "Epoch 87/100\n",
      "\u001b[1m3/3\u001b[0m \u001b[32m━━━━━━━━━━━━━━━━━━━━\u001b[0m\u001b[37m\u001b[0m \u001b[1m0s\u001b[0m 100ms/step - loss: 0.0157 - val_loss: 0.0180\n",
      "Epoch 88/100\n",
      "\u001b[1m3/3\u001b[0m \u001b[32m━━━━━━━━━━━━━━━━━━━━\u001b[0m\u001b[37m\u001b[0m \u001b[1m0s\u001b[0m 108ms/step - loss: 0.0118 - val_loss: 0.0178\n",
      "Epoch 89/100\n",
      "\u001b[1m3/3\u001b[0m \u001b[32m━━━━━━━━━━━━━━━━━━━━\u001b[0m\u001b[37m\u001b[0m \u001b[1m0s\u001b[0m 81ms/step - loss: 0.0119 - val_loss: 0.0179\n",
      "Epoch 90/100\n",
      "\u001b[1m3/3\u001b[0m \u001b[32m━━━━━━━━━━━━━━━━━━━━\u001b[0m\u001b[37m\u001b[0m \u001b[1m0s\u001b[0m 75ms/step - loss: 0.0134 - val_loss: 0.0179\n",
      "Epoch 91/100\n",
      "\u001b[1m3/3\u001b[0m \u001b[32m━━━━━━━━━━━━━━━━━━━━\u001b[0m\u001b[37m\u001b[0m \u001b[1m0s\u001b[0m 82ms/step - loss: 0.0145 - val_loss: 0.0179\n",
      "Epoch 92/100\n",
      "\u001b[1m3/3\u001b[0m \u001b[32m━━━━━━━━━━━━━━━━━━━━\u001b[0m\u001b[37m\u001b[0m \u001b[1m0s\u001b[0m 101ms/step - loss: 0.0179 - val_loss: 0.0178\n",
      "Epoch 93/100\n",
      "\u001b[1m3/3\u001b[0m \u001b[32m━━━━━━━━━━━━━━━━━━━━\u001b[0m\u001b[37m\u001b[0m \u001b[1m0s\u001b[0m 80ms/step - loss: 0.0140 - val_loss: 0.0178\n",
      "Epoch 94/100\n",
      "\u001b[1m3/3\u001b[0m \u001b[32m━━━━━━━━━━━━━━━━━━━━\u001b[0m\u001b[37m\u001b[0m \u001b[1m0s\u001b[0m 100ms/step - loss: 0.0152 - val_loss: 0.0178\n",
      "Epoch 95/100\n",
      "\u001b[1m3/3\u001b[0m \u001b[32m━━━━━━━━━━━━━━━━━━━━\u001b[0m\u001b[37m\u001b[0m \u001b[1m0s\u001b[0m 80ms/step - loss: 0.0136 - val_loss: 0.0176\n",
      "Epoch 96/100\n",
      "\u001b[1m3/3\u001b[0m \u001b[32m━━━━━━━━━━━━━━━━━━━━\u001b[0m\u001b[37m\u001b[0m \u001b[1m0s\u001b[0m 105ms/step - loss: 0.0147 - val_loss: 0.0174\n",
      "Epoch 97/100\n",
      "\u001b[1m3/3\u001b[0m \u001b[32m━━━━━━━━━━━━━━━━━━━━\u001b[0m\u001b[37m\u001b[0m \u001b[1m0s\u001b[0m 85ms/step - loss: 0.0129 - val_loss: 0.0174\n",
      "Epoch 98/100\n",
      "\u001b[1m3/3\u001b[0m \u001b[32m━━━━━━━━━━━━━━━━━━━━\u001b[0m\u001b[37m\u001b[0m \u001b[1m0s\u001b[0m 78ms/step - loss: 0.0129 - val_loss: 0.0171\n",
      "Epoch 99/100\n",
      "\u001b[1m3/3\u001b[0m \u001b[32m━━━━━━━━━━━━━━━━━━━━\u001b[0m\u001b[37m\u001b[0m \u001b[1m0s\u001b[0m 92ms/step - loss: 0.0144 - val_loss: 0.0169\n",
      "Epoch 100/100\n",
      "\u001b[1m3/3\u001b[0m \u001b[32m━━━━━━━━━━━━━━━━━━━━\u001b[0m\u001b[37m\u001b[0m \u001b[1m0s\u001b[0m 98ms/step - loss: 0.0148 - val_loss: 0.0168\n"
     ]
    },
    {
     "data": {
      "text/plain": [
       "<keras.src.callbacks.history.History at 0x1d7145bb790>"
      ]
     },
     "execution_count": 28,
     "metadata": {},
     "output_type": "execute_result"
    }
   ],
   "source": [
    "# Training model\n",
    "history = model_basic.fit(X_train_model, \n",
    "                          y_train,\n",
    "                          validation_data=(X_test_model, y_test),\n",
    "                          epochs=100,\n",
    "                          batch_size=16)\n",
    "history"
   ]
  },
  {
   "cell_type": "code",
   "execution_count": 30,
   "id": "fdae0b35",
   "metadata": {},
   "outputs": [
    {
     "data": {
      "image/png": "[encoded data removed]",
      "text/plain": [
       "<Figure size 640x480 with 1 Axes>"
      ]
     },
     "metadata": {},
     "output_type": "display_data"
    }
   ],
   "source": [
    "# Visualisasi train and validation loss\n",
    "plt.plot(history.history[\"loss\"])\n",
    "plt.plot(history.history[\"val_loss\"])\n",
    "plt.title(\"Model Train vs Validation Loss\")\n",
    "plt.xlabel(\"Epoch\")\n",
    "plt.ylabel(\"Loss\")\n",
    "plt.legend([\"Train\", \"Validation\"], loc=\"upper right\")\n",
    "plt.show()"
   ]
  },
  {
   "cell_type": "code",
   "execution_count": 32,
   "id": "e78854f4",
   "metadata": {},
   "outputs": [
    {
     "name": "stdout",
     "output_type": "stream",
     "text": [
      "\u001b[1m1/1\u001b[0m \u001b[32m━━━━━━━━━━━━━━━━━━━━\u001b[0m\u001b[37m\u001b[0m \u001b[1m0s\u001b[0m 288ms/step\n",
      "[[30076418.]\n",
      " [29945666.]\n",
      " [31480298.]\n",
      " [31966068.]\n",
      " [32102828.]\n",
      " [31472098.]\n",
      " [31561032.]\n",
      " [31534596.]\n",
      " [31380304.]\n",
      " [31499684.]\n",
      " [31797018.]\n",
      " [31728938.]]\n",
      "[[31990770.]\n",
      " [34375823.]\n",
      " [31963897.]\n",
      " [32321325.]\n",
      " [32353280.]\n",
      " [32205685.]\n",
      " [32227659.]\n",
      " [31628831.]\n",
      " [33068660.]\n",
      " [33518691.]\n",
      " [30260397.]\n",
      " [34238166.]]\n"
     ]
    }
   ],
   "source": [
    "# Membuat prediksi berdasarkan data uji\n",
    "y_pred_scaler = model_basic.predict(X_test_model)\n",
    "y_pred = scaler.inverse_transform(y_pred_scaler)\n",
    "y_test_actual = scaler.inverse_transform(y_test.reshape(-1,1))\n",
    "print(y_pred)\n",
    "print(y_test_actual)"
   ]
  },
  {
   "cell_type": "code",
   "execution_count": null,
   "id": "f5af5adc",
   "metadata": {},
   "outputs": [],
   "source": []
  }
 ],
 "metadata": {
  "kernelspec": {
   "display_name": ".venv",
   "language": "python",
   "name": "python3"
  },
  "language_info": {
   "codemirror_mode": {
    "name": "ipython",
    "version": 3
   },
   "file_extension": ".py",
   "mimetype": "text/x-python",
   "name": "python",
   "nbconvert_exporter": "python",
   "pygments_lexer": "ipython3",
   "version": "3.11.3"
  }
 },
 "nbformat": 4,
 "nbformat_minor": 5
}
